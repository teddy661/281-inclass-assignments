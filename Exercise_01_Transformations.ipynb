{
  "nbformat": 4,
  "nbformat_minor": 0,
  "metadata": {
    "colab": {
      "provenance": []
    },
    "kernelspec": {
      "name": "python3",
      "display_name": "Python 3"
    },
    "language_info": {
      "name": "python"
    }
  },
  "cells": [
    {
      "cell_type": "markdown",
      "source": [
        "**2D Transformations Exercise**\n",
        "\n",
        "In this exercise you will practice transforming objects in 2D using numpy and matplotlib.\n",
        "\n",
        "Step 1: Fill in the missing parts for the function `construct_transformation_matrix`. You will need to look up the formula for 2D rotation and scale matrices and combine these with a translation vector to return a homogeneous transformation matrix.\n",
        "\n",
        "Step 2: In the scene below there are three objects. `obj1` and `obj2` are defined by transformation matrix parameters, while `objTarget` is defined by the locations of its corner points. Your task is to modify the transformation parameters of `obj2` to match the position of `objTarget`.\n",
        "\n",
        "2.1: First match the position of `objTarget` using `origin=[0, 0, 0]`\n",
        "\n",
        "2.2: Then create a new object, `obj3`, and match the position of `objTarget` using `origin=[1, 1, 0]`"
      ],
      "metadata": {
        "id": "4KQakOH1HA0U"
      }
    },
    {
      "cell_type": "code",
      "source": [
        "import numpy as np\n",
        "import matplotlib.pyplot as plt\n",
        "import matplotlib.colors as mcolors\n",
        "from matplotlib.patches import Polygon\n",
        "from math import sin, cos"
      ],
      "metadata": {
        "id": "YGe1DnQ7w5RL"
      },
      "execution_count": null,
      "outputs": []
    },
    {
      "cell_type": "code",
      "source": [
        "\"\"\" Given a rotation angle (theta) in radians,\n",
        "    a translation vector [tX, tY],\n",
        "    and a scale vector [sX, sY],\n",
        "    construct a 2D transformation matrix \"\"\"\n",
        "\n",
        "def construct_transform_matrix(params):\n",
        "  theta = params[0]\n",
        "  tX = params[1][0]\n",
        "  tY = params[1][1]\n",
        "  sX = params[2][0]\n",
        "  sY = params[2][1]\n",
        "\n",
        "  ### TODO: Construct R and S matrices and T vector\n",
        "  #R = np.array([ ??? ])\n",
        "  #S = np.array([ ??? ])\n",
        "  #T = np.array([ ??? ])\n",
        "\n",
        "  ### TODO: compose full homogeneous transformation matrix\n",
        "  # order of operations: first scale, then rotate, then translate\n",
        "  #M = ???\n",
        "  return M"
      ],
      "metadata": {
        "id": "1__msxyPTK96"
      },
      "execution_count": null,
      "outputs": []
    },
    {
      "cell_type": "code",
      "source": [
        "\"\"\" Given an origin [x, y, 0] and\n",
        "    points of the form [[x], [y], [1]], and\n",
        "    a 2D transformation matrix of size (3,3),\n",
        "    return points transformed with respect to the origin \"\"\"\n",
        "\n",
        "def transform_pts(pts, origin, transform):\n",
        "  centered_pts = pts - origin\n",
        "  tr_pts = transform @ np.transpose(centered_pts)\n",
        "  out_pts = np.transpose(tr_pts) + origin\n",
        "  return out_pts"
      ],
      "metadata": {
        "id": "-XjxxF27VHEX"
      },
      "execution_count": null,
      "outputs": []
    },
    {
      "cell_type": "code",
      "source": [
        "\"\"\" Given a plot axis and a list of objects,\n",
        "    where each object is a dict containing fields\n",
        "    'params', 'points', and 'origin',\n",
        "    transform and plot each object in the scene \"\"\"\n",
        "\n",
        "def plot_scene(obj_list, ax):\n",
        "  for i, obj in enumerate(obj_list):\n",
        "    M = construct_transform_matrix(obj['params'])\n",
        "    pts = transform_pts(obj['points'], obj['origin'], M)\n",
        "    color = list(mcolors.TABLEAU_COLORS)[i]\n",
        "    #print(i)\n",
        "    #print(pts[:, :2])\n",
        "    ax.add_patch(Polygon(pts[:, :2], closed=False, color=color))"
      ],
      "metadata": {
        "id": "1AJWH4gIXoYh"
      },
      "execution_count": null,
      "outputs": []
    },
    {
      "cell_type": "code",
      "source": [
        "# construct scene\n",
        "# vertex order is clockwise from top left\n",
        "# param order is rotation, translation, scale\n",
        "# rotation angles are counterclockwise\n",
        "\n",
        "obj1 = {'points': np.array([ [0, 0, 1], [1, 0, 1], [1, 1, 1], [0, 1, 1] ]),\n",
        "        'origin': np.array([0, 0, 0]),\n",
        "        'params': [np.deg2rad(0), [0, 0], [1, 1]]}\n",
        "\n",
        "obj2 = {'points': np.array([ [0, 0, 1], [1, 0, 1], [1, 1, 1], [0, 1, 1] ]),\n",
        "        'origin': np.array([0, 0, 0]),\n",
        "        'params': [np.deg2rad(100), [0, 0], [2, 1]]}\n",
        "\n",
        "objTarget = {'points': np.array([ [4, 1.2, 1], [4.75, 2.5, 1], [3, 3.5, 1], [2.268, 2.2, 1] ]),\n",
        "             'origin': np.array([0, 0, 0]),\n",
        "             'params': [np.deg2rad(0), [0, 0], [1, 1]]}"
      ],
      "metadata": {
        "id": "hgNQ_rXcamGt"
      },
      "execution_count": null,
      "outputs": []
    },
    {
      "cell_type": "code",
      "source": [
        "# plot scene\n",
        "\n",
        "dpi = 96\n",
        "fig = plt.figure(figsize=(800/dpi, 400/dpi), dpi=dpi)\n",
        "ax = fig.add_subplot()\n",
        "plot_scene([obj1, obj2, objTarget], ax)\n",
        "\n",
        "ax.set_aspect('equal', adjustable='box')\n",
        "plt.xlim([-5, 5])\n",
        "plt.ylim([-5, 5])\n",
        "#plt.xticks(ticks=[])\n",
        "#plt.yticks(ticks=[])\n",
        "plt.draw()\n",
        "plt.tight_layout()"
      ],
      "metadata": {
        "colab": {
          "base_uri": "https://localhost:8080/",
          "height": 407
        },
        "id": "G5DLij3lcvyW",
        "outputId": "c7d00ce3-b208-4c77-9d73-27188370c99c"
      },
      "execution_count": null,
      "outputs": [
        {
          "output_type": "display_data",
          "data": {
            "text/plain": [
              "<Figure size 800x400 with 1 Axes>"
            ],
            "image/png": "[encoded data removed]"
          },
          "metadata": {
            "needs_background": "light"
          }
        }
      ]
    }
  ]
}