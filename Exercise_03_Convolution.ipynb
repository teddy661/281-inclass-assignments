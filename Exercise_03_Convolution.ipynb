{
  "nbformat": 4,
  "nbformat_minor": 0,
  "metadata": {
    "colab": {
      "provenance": []
    },
    "kernelspec": {
      "name": "python3",
      "display_name": "Python 3"
    },
    "language_info": {
      "name": "python"
    }
  },
  "cells": [
    {
      "cell_type": "markdown",
      "source": [
        "**Convolution Kernel Exercise**\n",
        "\n",
        "**Part 1: Edge Detection**\n",
        "\n",
        "1) Horizontal Edge: Design a 3x3 kernel such that, after convolution, the output image displays the horizontal edges of the input image.\n",
        "\n",
        "2) Vertical Edge: Design a 3x3 kernel such that, after convolution, the output image displays the vertical edges of the input image.\n",
        "\n",
        "3) Laplacian: Design a 3x3 kernel such that, after convolution, the output image displays both vertical and horizontal edges.\n",
        "\n",
        "**Part 2 : Scale**\n",
        "\n",
        "1) Effect of Image Size: Keeping the kernel size fixed, reduce the image size. Notice which edges are extracted from the image at different resolutions.\n",
        "\n",
        "2) Effect of Kernel Size: Keeping the image size fixed, increase the kernel size. Notice which edges are extracted from the image with different kernels.\n"
      ],
      "metadata": {
        "id": "vFyfWJTSa-YZ"
      }
    },
    {
      "cell_type": "code",
      "source": [
        "import numpy as np\n",
        "from scipy import ndimage\n",
        "import matplotlib\n",
        "import matplotlib.pyplot as plt\n",
        "from skimage.transform import resize\n",
        "from skimage.color import rgb2gray, rgba2rgb\n",
        "from PIL import Image\n",
        "import urllib"
      ],
      "metadata": {
        "id": "yFDjhlkqWnrZ"
      },
      "execution_count": null,
      "outputs": []
    },
    {
      "cell_type": "code",
      "source": [
        "# set figure params\n",
        "matplotlib.rcParams['font.size'] = 16\n",
        "\n",
        "def convolve(in_img, in_kernel):\n",
        "  return ndimage.convolve(in_img, in_kernel, mode='reflect')\n",
        "\n",
        "\n",
        "def display_images(in_ref, out_img, title):\n",
        "  # Create figure\n",
        "  fig, axes = plt.subplots(nrows=1, ncols=2, figsize=(20, 10))\n",
        "\n",
        "  # Display target image\n",
        "  axes[0].imshow(in_ref, cmap=plt.cm.gray, vmin=0, vmax=1)\n",
        "  axes[0].set_axis_off()\n",
        "  axes[0].set_title('Target Output')\n",
        "\n",
        "  # Ensure output image is scaled between [0,1]\n",
        "  out_img = ((out_img - np.min(out_img)) / (np.max(out_img) - np.min(out_img)))\n",
        "\n",
        "  axes[1].imshow(out_img, cmap=plt.cm.gray, vmin=0, vmax=1)\n",
        "  axes[1].set_axis_off()\n",
        "  axes[1].set_title('Your Output')\n",
        "\n",
        "  plt.suptitle(f'{title}')\n",
        "  plt.show()\n",
        "\n",
        "def read_img(url):\n",
        "  return np.array(Image.open(urllib.request.urlopen(url)))"
      ],
      "metadata": {
        "id": "0M-YEPUGYApF"
      },
      "execution_count": null,
      "outputs": []
    },
    {
      "cell_type": "markdown",
      "source": [
        "## Part 1: Edge Detection"
      ],
      "metadata": {
        "id": "qJrzRdldazf3"
      }
    },
    {
      "cell_type": "code",
      "source": [
        "# read the original image\n",
        "taj_img = read_img('https://raw.githubusercontent.com/W281/fileRepository/main/convolution/taj.png')/255. # convert to double"
      ],
      "metadata": {
        "id": "HQMmshw4HRP7"
      },
      "execution_count": null,
      "outputs": []
    },
    {
      "cell_type": "code",
      "source": [
        "# TODO: design a 3x3 kernel to extract only horizontal edges and convolve it with the original image\n",
        "#k_h = ??\n",
        "#h_img = ??\n",
        "\n",
        "# display target img vs your img\n",
        "h_target = read_img('https://raw.githubusercontent.com/W281/fileRepository/main/convolution/hor_img.png')/255.\n",
        "display_images(h_target, h_img, 'Horizontal Convolution Kernel')"
      ],
      "metadata": {
        "id": "No-Ij3EEgojf"
      },
      "execution_count": null,
      "outputs": []
    },
    {
      "cell_type": "code",
      "source": [
        "# TODO: design a 3x3 kernel to extract only vertical edges and convolve it with the original image\n",
        "#k_v = ??\n",
        "#v_img = ??\n",
        "\n",
        "# display target img vs your img\n",
        "v_target = read_img('https://raw.githubusercontent.com/W281/fileRepository/main/convolution/ver_img.png')/255.\n",
        "display_images(v_target, v_img, 'Vertical Convolution Kernel')"
      ],
      "metadata": {
        "id": "u1_ZTME7gt_s"
      },
      "execution_count": null,
      "outputs": []
    },
    {
      "cell_type": "code",
      "source": [
        "# TODO: design a 3x3 kernel to extract both horizontal and vertical edges and convolve it with the original image\n",
        "#k_l = ??\n",
        "#l_img = ??\n",
        "\n",
        "# display target img vs your img\n",
        "l_target = read_img('https://raw.githubusercontent.com/W281/fileRepository/main/convolution/lap_img.png')/255.\n",
        "display_images(l_target, l_img, 'Laplacian Convolution Kernel')"
      ],
      "metadata": {
        "id": "D6U8Ve2bj4Ad"
      },
      "execution_count": null,
      "outputs": []
    },
    {
      "cell_type": "markdown",
      "source": [
        "## Part 2: Scale"
      ],
      "metadata": {
        "id": "Ke3yJDe0G-Fe"
      }
    },
    {
      "cell_type": "code",
      "source": [
        "# read and show the original image\n",
        "zebra_img = rgb2gray(rgba2rgb(read_img('https://raw.githubusercontent.com/W281/fileRepository/main/live_session/Zebra.png')))\n",
        "\n",
        "if np.max(zebra_img)>1:\n",
        "  zebra_img = zebra_img.astype(np.float32)/255.0\n",
        "\n",
        "img_size = np.array(zebra_img.shape)\n",
        "plt.imshow(zebra_img, cmap='gray')\n",
        "plt.axis('off')\n",
        "plt.show()"
      ],
      "metadata": {
        "id": "vxAAKhf0Hcp9"
      },
      "execution_count": null,
      "outputs": []
    },
    {
      "cell_type": "code",
      "source": [
        "# function to create Laplacian kernels of a certain size\n",
        "def LapMask(n):\n",
        "    mask = np.ones((n,n))\n",
        "    mask[int(np.ceil(n/2))-1, int(np.ceil(n/2))-1] = 1 - n**2\n",
        "    return mask"
      ],
      "metadata": {
        "id": "8HzPxYiQvEgD"
      },
      "execution_count": null,
      "outputs": []
    },
    {
      "cell_type": "code",
      "source": [
        "# example kernel outputs\n",
        "print('3x3 Laplacian Kernel')\n",
        "print(LapMask(3))\n",
        "print('5x5 Laplacian Kernel')\n",
        "print(LapMask(5))\n",
        "print('9x9 Laplacian Kernel')\n",
        "print(LapMask(9))"
      ],
      "metadata": {
        "id": "1TjYwJ7TPUL2"
      },
      "execution_count": null,
      "outputs": []
    },
    {
      "cell_type": "markdown",
      "source": [
        "# Effect of Image Size (constant kernel size)"
      ],
      "metadata": {
        "id": "6uWI_vsvtJyQ"
      }
    },
    {
      "cell_type": "code",
      "source": [
        "# create figure\n",
        "fig, axes = plt.subplots(nrows=3, ncols=2, figsize=(20, 15))\n",
        "axes = axes.flatten()\n",
        "\n",
        "# kernel of size 3x3\n",
        "laplace = LapMask(3)\n",
        "print('3x3 Laplacian Kernel')\n",
        "print(laplace)\n",
        "\n",
        "# halve the image size 5 times\n",
        "scales = [1]\n",
        "for i in range(5):\n",
        "  scales.append(scales[-1]*0.5)\n",
        "\n",
        "for i, s in enumerate(scales):\n",
        "  # TODO:\n",
        "  # downsample image by scale factor\n",
        "  # round new image dimensions to the closest pixel\n",
        "  #resized_image = ??\n",
        "\n",
        "  # TODO:\n",
        "  # apply the laplacian filter to the downsampled image\n",
        "  # then upsample back to the original size\n",
        "  #out_im = ??\n",
        "\n",
        "  # plot each image\n",
        "  axes[i].imshow(out_im, cmap='gray')\n",
        "  axes[i].set_title(f'image scale = {s}')\n",
        "  axes[i].axis('off')\n",
        "\n",
        "plt.show()"
      ],
      "metadata": {
        "id": "Lj7WU4TetQVw"
      },
      "execution_count": null,
      "outputs": []
    },
    {
      "cell_type": "markdown",
      "source": [
        "# Effect of Kernel Size (constant image size)"
      ],
      "metadata": {
        "id": "5is-nuAdzhfd"
      }
    },
    {
      "cell_type": "code",
      "source": [
        "# create figure\n",
        "fig, axes = plt.subplots(nrows=3, ncols=2, figsize=(20, 15))\n",
        "axes = axes.flatten()\n",
        "\n",
        "# halve the kernel size 4 times\n",
        "scales = [3, 9, 21, 31, 51, 101]\n",
        "\n",
        "for i, s in enumerate(scales):\n",
        "  # TODO:\n",
        "  # create a laplacian kernel according to the current scale\n",
        "  #kernel = ??\n",
        "\n",
        "  # TODO:\n",
        "  # apply the laplacian filter to the original image\n",
        "  #out_im = ??\n",
        "\n",
        "  # plot output image for each scale\n",
        "  axes[i].imshow(out_im, cmap='gray')\n",
        "  axes[i].set_title(f'kernel size = {s}')\n",
        "  axes[i].axis('off')\n",
        "\n",
        "plt.show()"
      ],
      "metadata": {
        "id": "fsIIt16ozGav"
      },
      "execution_count": null,
      "outputs": []
    }
  ]
}