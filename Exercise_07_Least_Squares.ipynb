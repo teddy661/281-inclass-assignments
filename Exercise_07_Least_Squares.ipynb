{
  "nbformat": 4,
  "nbformat_minor": 0,
  "metadata": {
    "colab": {
      "provenance": []
    },
    "kernelspec": {
      "name": "python3",
      "display_name": "Python 3"
    },
    "language_info": {
      "name": "python"
    }
  },
  "cells": [
    {
      "cell_type": "markdown",
      "source": [
        "**Find path of the comet in the image**\n",
        "\n",
        "(source: https://www.theguardian.com/science/2020/dec/14/british-engineers-to-start-work-on-comet-chaser-probe)\n",
        "\n",
        "1. **Extract the features from the image:** Given below is some code for extracting the pixels which lie on the path of the comet. We do this using image gradients and then thresholding the gradients using the Canny edge detector.\n",
        "\n",
        "2. **Fit the polynomial:** Once we are satisfied with the features we extracted from the image, we can fit a model to the points. We start with a prior about the path of comet -- we know it travels in parabolic path. Therefore, here we fit a two degree polynomial to the points. Feel free to also try fitting a higher/lower degree polynomial using Python's polyfit function.\n"
      ],
      "metadata": {
        "id": "h1hSoG1vQoL9"
      }
    },
    {
      "cell_type": "code",
      "execution_count": null,
      "metadata": {
        "id": "Oi0rt6tJQnQV"
      },
      "outputs": [],
      "source": [
        "import numpy as np\n",
        "import matplotlib.pyplot as plt\n",
        "import cv2\n",
        "import os\n",
        "import math\n",
        "from mpl_toolkits.axes_grid1 import make_axes_locatable\n",
        "from PIL import Image\n",
        "import urllib"
      ]
    },
    {
      "cell_type": "code",
      "source": [
        "# load the image\n",
        "im = np.array(Image.open(urllib.request.urlopen('https://raw.githubusercontent.com/W281/fileRepository/main/live_session/comet.png')))\n",
        "\n",
        "# display the image\n",
        "plt.figure(figsize=(15,10))\n",
        "plt.axis('off')\n",
        "plt.imshow(im)\n",
        "plt.show()\n",
        "\n",
        "def display_img_colorbar(img):\n",
        "  # display the points\n",
        "  fig, ax = plt.subplots(figsize=(15, 10))\n",
        "  im_ax = plt.imshow(img, cmap='gray')\n",
        "  # create an axes on the right side of ax. The width of cax will be 5%\n",
        "  # of ax and the padding between cax and ax will be fixed at 0.05 inch.\n",
        "  divider = make_axes_locatable(ax)\n",
        "  cax = divider.append_axes(\"right\", size=\"5%\", pad=0.05)\n",
        "  plt.colorbar(im_ax, cax=cax)\n",
        "  plt.show()\n",
        "\n"
      ],
      "metadata": {
        "id": "uNrG313nRG9N"
      },
      "execution_count": null,
      "outputs": []
    },
    {
      "cell_type": "code",
      "source": [
        "# extract the features from the image\n",
        "\n",
        "# convert to grayscale\n",
        "if np.max(im)>1:\n",
        "  im = im.astype(np.float32)/255.0\n",
        "im_gray = np.mean(im, axis=2)\n",
        "\n",
        "# compute edges of the image\n",
        "sobelx = cv2.Sobel(im_gray, cv2.CV_32F, 1, 0, ksize=21) # Find x and y gradients\n",
        "sobely = cv2.Sobel(im_gray, cv2.CV_32F, 0, 1, ksize=21)\n",
        "magnitude = np.sqrt(sobelx**2.0 + sobely**2.0)\n",
        "magnitude = magnitude / np.max(magnitude) # normalize\n",
        "\n",
        "display_img_colorbar(magnitude)"
      ],
      "metadata": {
        "id": "LoIy8EzGRoPV"
      },
      "execution_count": null,
      "outputs": []
    },
    {
      "cell_type": "code",
      "source": [
        "# threshold the image and get the interesting points\n",
        "im_threshold = cv2.Canny(image=(magnitude * 255).astype(np.uint8), threshold1=0, threshold2=100) # Canny Edge\n",
        "im_threshold = im_threshold / np.max(im_threshold) # normalize\n",
        "\n",
        "display_img_colorbar(im_threshold)"
      ],
      "metadata": {
        "id": "w829H0j_Spba"
      },
      "execution_count": null,
      "outputs": []
    },
    {
      "cell_type": "code",
      "source": [
        "# TODO: get the points on which we want to fit polynomial\n",
        "# use the argwhere function\n",
        "#yx = ??\n",
        "#x = ??\n",
        "#y = ??"
      ],
      "metadata": {
        "id": "z6uO_LNTUIB4"
      },
      "execution_count": null,
      "outputs": []
    },
    {
      "cell_type": "code",
      "source": [
        "# fit a second degree polynomial using the formula u = (X.T * X).inv * X.T * y\n",
        "\n",
        "# model = ax2 + bx + c\n",
        "\n",
        "# TODO: populate X\n",
        "#X =\n",
        "# TODO: populate y_vec\n",
        "#y_vec =\n",
        "\n",
        "# these are the unknowns\n",
        "# TODO: get unknowns u\n",
        "\n",
        "# TODO: compute fit values for each point location in the image\n",
        "# recall the model formula above\n",
        "x_fit = np.arange(im.shape[1])\n",
        "#y_fit = ??\n",
        "\n",
        "# plot the curve that we have fit\n",
        "plt.figure(figsize=(15, 10))\n",
        "plt.imshow(im)\n",
        "plt.plot(x_fit, y_fit, 'r-')\n",
        "plt.show()\n"
      ],
      "metadata": {
        "id": "sP8ZqtJxY3Fy"
      },
      "execution_count": null,
      "outputs": []
    },
    {
      "cell_type": "code",
      "source": [
        "# fit a first degree polynomial using the built-in python function\n",
        "p = np.poly1d(np.polyfit(x, y, 1))\n",
        "\n",
        "# display the image\n",
        "plt.figure(figsize=(15,10))\n",
        "plt.imshow(im)\n",
        "plt.plot(np.arange(im.shape[1]), p(np.arange(im.shape[1])), 'r-')\n",
        "plt.show()\n"
      ],
      "metadata": {
        "id": "eLmJNlyPc8Nz"
      },
      "execution_count": null,
      "outputs": []
    },
    {
      "cell_type": "code",
      "source": [
        "# fit a second degree polynomial using the built-in python function\n",
        "p = np.poly1d(np.polyfit(x, y, 2))\n",
        "\n",
        "# display the image\n",
        "plt.figure(figsize=(15,10))\n",
        "plt.imshow(im)\n",
        "plt.plot(np.arange(im.shape[1]), p(np.arange(im.shape[1])), 'r-')\n",
        "plt.show()\n"
      ],
      "metadata": {
        "id": "v5zRECL3bBt2"
      },
      "execution_count": null,
      "outputs": []
    },
    {
      "cell_type": "code",
      "source": [
        "# fit a third degree polynomial using the built-in python function\n",
        "p = np.poly1d(np.polyfit(x, y, 3))\n",
        "\n",
        "# display the image\n",
        "plt.figure(figsize=(15, 10))\n",
        "plt.imshow(im)\n",
        "plt.plot(np.arange(im.shape[1]), p(np.arange(im.shape[1])), 'r-')\n",
        "plt.show()\n"
      ],
      "metadata": {
        "id": "Dyyrosl2fEpR"
      },
      "execution_count": null,
      "outputs": []
    },
    {
      "cell_type": "code",
      "source": [],
      "metadata": {
        "id": "JH-1nDJ6exvW"
      },
      "execution_count": null,
      "outputs": []
    }
  ]
}